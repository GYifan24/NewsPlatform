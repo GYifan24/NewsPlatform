{
 "cells": [
  {
   "cell_type": "code",
   "execution_count": 3,
   "metadata": {},
   "outputs": [
    {
     "name": "stdout",
     "output_type": "stream",
     "text": [
      "0                          cnn\n",
      "1                          cnn\n",
      "2                          cnn\n",
      "3                          cnn\n",
      "4                          cnn\n",
      "5                          cnn\n",
      "6                          cnn\n",
      "7                          cnn\n",
      "8                          cnn\n",
      "9                          cnn\n",
      "10                         cnn\n",
      "11                         cnn\n",
      "12                         cnn\n",
      "13                         cnn\n",
      "14                         cnn\n",
      "15                         cnn\n",
      "16                         cnn\n",
      "17                         cnn\n",
      "18                         cnn\n",
      "19                         cnn\n",
      "20                         cnn\n",
      "21                         cnn\n",
      "22                         cnn\n",
      "23                         cnn\n",
      "24                         cnn\n",
      "25                         cnn\n",
      "26                         cnn\n",
      "27                         cnn\n",
      "28                         cnn\n",
      "29                         cnn\n",
      "                ...           \n",
      "508                 techcrunch\n",
      "509                 techcrunch\n",
      "510                 techcrunch\n",
      "511                 techcrunch\n",
      "512                 techcrunch\n",
      "513         the-new-york-times\n",
      "514         the-new-york-times\n",
      "515         the-new-york-times\n",
      "516         the-new-york-times\n",
      "517         the-new-york-times\n",
      "518         the-new-york-times\n",
      "519         the-new-york-times\n",
      "520    the-wall-street-journal\n",
      "521    the-wall-street-journal\n",
      "522    the-wall-street-journal\n",
      "523    the-wall-street-journal\n",
      "524    the-wall-street-journal\n",
      "525    the-wall-street-journal\n",
      "526    the-wall-street-journal\n",
      "527    the-wall-street-journal\n",
      "528    the-wall-street-journal\n",
      "529    the-wall-street-journal\n",
      "530        the-washington-post\n",
      "531        the-washington-post\n",
      "532        the-washington-post\n",
      "533        the-washington-post\n",
      "534        the-washington-post\n",
      "535        the-washington-post\n",
      "536        the-washington-post\n",
      "537        the-washington-post\n",
      "Name: 3, Length: 538, dtype: object\n"
     ]
    },
    {
     "name": "stderr",
     "output_type": "stream",
     "text": [
      "/usr/local/Cellar/python/3.6.5/Frameworks/Python.framework/Versions/3.6/lib/python3.6/importlib/_bootstrap.py:219: RuntimeWarning: numpy.dtype size changed, may indicate binary incompatibility. Expected 96, got 88\n",
      "  return f(*args, **kwds)\n"
     ]
    }
   ],
   "source": [
    "import pandas as pd\n",
    "DATA_SET_FILE = './labeled_news.csv'\n",
    "df = pd.read_csv(DATA_SET_FILE, header=None)\n",
    "print(df[3])\n"
   ]
  },
  {
   "cell_type": "code",
   "execution_count": 2,
   "metadata": {},
   "outputs": [
    {
     "name": "stdout",
     "output_type": "stream",
     "text": [
      "Collecting pandas\n",
      "\u001b[?25l  Downloading https://files.pythonhosted.org/packages/78/78/50ef81a903eccc4e90e278a143c9a0530f05199f6221d2e1b21025852982/pandas-0.23.4-cp36-cp36m-macosx_10_6_intel.macosx_10_9_intel.macosx_10_9_x86_64.macosx_10_10_intel.macosx_10_10_x86_64.whl (14.6MB)\n",
      "\u001b[K    100% |████████████████████████████████| 14.7MB 1.9MB/s ta 0:00:011�██████████████▎            | 8.8MB 4.8MB/s eta 0:00:02██████████████████▉            | 9.1MB 5.7MB/s eta 0:00:01\n",
      "\u001b[?25hRequirement already satisfied: numpy>=1.9.0 in /usr/local/lib/python3.6/site-packages (from pandas) (1.15.0)\n",
      "Collecting pytz>=2011k (from pandas)\n",
      "\u001b[?25l  Downloading https://files.pythonhosted.org/packages/30/4e/27c34b62430286c6d59177a0842ed90dc789ce5d1ed740887653b898779a/pytz-2018.5-py2.py3-none-any.whl (510kB)\n",
      "\u001b[K    100% |████████████████████████████████| 512kB 5.1MB/s ta 0:00:011\n",
      "\u001b[?25hRequirement already satisfied: python-dateutil>=2.5.0 in /usr/local/lib/python3.6/site-packages (from pandas) (2.7.3)\n",
      "Requirement already satisfied: six>=1.5 in /usr/local/lib/python3.6/site-packages (from python-dateutil>=2.5.0->pandas) (1.11.0)\n",
      "Installing collected packages: pytz, pandas\n",
      "Successfully installed pandas-0.23.4 pytz-2018.5\n",
      "\u001b[33mYou are using pip version 10.0.1, however version 18.0 is available.\n",
      "You should consider upgrading via the 'pip install --upgrade pip' command.\u001b[0m\n"
     ]
    }
   ],
   "source": [
    "!pip install pandas"
   ]
  },
  {
   "cell_type": "code",
   "execution_count": 4,
   "metadata": {},
   "outputs": [
    {
     "name": "stdout",
     "output_type": "stream",
     "text": [
      "0      President Donald Trump told Israeli Prime Mini...\n",
      "1      President Donald Trump and Israeli Prime Minis...\n",
      "2      \"Tomorrow's world will be different -- and it ...\n",
      "3      President Donald Trump told Israeli newspaper ...\n",
      "4      President Trump hosts world leaders. Michael F...\n",
      "5      Israel is at a crossroads: two states or not t...\n",
      "6      Iowa Rep. Steve King says General Michael Flyn...\n",
      "7      High-level advisers close to then-presidential...\n",
      "8      Like parents around the country, Jeanette Vizg...\n",
      "9      White House senior policy adviser Stephen Mill...\n",
      "10     Andrew Puzder has withdrawn as President Donal...\n",
      "11     Here are all the reasons Andy Puzder, Trump's ...\n",
      "12     The ex-wife of Labor Secretary nominee Andy Pu...\n",
      "13     Former national security adviser Michael Flynn...\n",
      "14     The Defense Department might propose that the ...\n",
      "15     Earmarks, the simultaneously hated and beloved...\n",
      "16     The number of hate groups in America spiked in...\n",
      "17     CNN's Jake Tapper discusses how President Dona...\n",
      "18     There is some poetic justice in seeing the man...\n",
      "19     In the end, Andrew Puzder had too much baggage...\n",
      "20     As the fallout from Michael Flynn's resignatio...\n",
      "21     Two top House Republicans asked the Inspector ...\n",
      "22     CNN's Jim Acosta, Sara Murray and Joe Johns al...\n",
      "23     Washington, DC, restaurants and schools are pr...\n",
      "24     The organizers of the Women's March on Washing...\n",
      "25     Workers at Boeing's South Carolina plant go to...\n",
      "26     President Donald Trump rejected the long-estab...\n",
      "27     The vacant spot atop the National Security Cou...\n",
      "28     Trump's administration remains largely unfille...\n",
      "29     Sen. Ted Cruz (R-TX) says he thinks former US ...\n",
      "                             ...                        \n",
      "508    At World View's new headquarters in Tucson, Ar...\n",
      "509    Snap debuts as a public company in soaring IPO...\n",
      "510    Uber is using a tool called \"Greyball\" to work...\n",
      "511    Peter Thiel has been at Donald Trump's side si...\n",
      "512    Another day, another allegation against Uber. ...\n",
      "513    Obama administration officials scrambled to en...\n",
      "514    After learning she doesn’t have long to live, ...\n",
      "515    A program uses data Uber collected to evade la...\n",
      "516    Republicans excoriated Democrats for making “b...\n",
      "517                The first casualty of Trump is truth.\n",
      "518    A panoply of opinions take on the latest video...\n",
      "519    Mr. Sessions’s actions and the surrounding eve...\n",
      "520    The Federal Reserve’s two most senior official...\n",
      "521    FBI Director James Comey is back in the crossh...\n",
      "522    A total of $124 billion has poured into ETFs i...\n",
      "523    As China’s National People’s Congress opens, b...\n",
      "524    A mysterious gambler whose winning streak was ...\n",
      "525    Call centers were hit in October by the larges...\n",
      "526    The social media sector’s has-beens and never-...\n",
      "527    Vice President Mike Pence used a personal emai...\n",
      "528    A Missouri man accused of making threats again...\n",
      "529    “Let your winners run” is one of the oldest ad...\n",
      "530    The National Oceanic and Atmospheric Administr...\n",
      "531    Multiple meetings between campaign associates ...\n",
      "532    Democrats called for the attorney general to o...\n",
      "533    Rod J. Rosenstein’s confirmation hearing for d...\n",
      "534    An important analysis of a tweet from the pres...\n",
      "535    The returnees signify untapped potential but a...\n",
      "536    Different sides look to the president for a cl...\n",
      "537    Uber took extraordinary measures to evade gove...\n",
      "Name: 2, Length: 538, dtype: object\n"
     ]
    }
   ],
   "source": [
    "print(df[2])"
   ]
  },
  {
   "cell_type": "code",
   "execution_count": null,
   "metadata": {},
   "outputs": [],
   "source": []
  }
 ],
 "metadata": {
  "kernelspec": {
   "display_name": "Python 3",
   "language": "python",
   "name": "python3"
  },
  "language_info": {
   "codemirror_mode": {
    "name": "ipython",
    "version": 3
   },
   "file_extension": ".py",
   "mimetype": "text/x-python",
   "name": "python",
   "nbconvert_exporter": "python",
   "pygments_lexer": "ipython3",
   "version": "3.6.5"
  }
 },
 "nbformat": 4,
 "nbformat_minor": 2
}
